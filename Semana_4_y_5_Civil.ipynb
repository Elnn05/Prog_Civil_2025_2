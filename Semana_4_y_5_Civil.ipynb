{
  "nbformat": 4,
  "nbformat_minor": 0,
  "metadata": {
    "colab": {
      "provenance": [],
      "authorship_tag": "ABX9TyPaJEeHqvM1bYOC5dj19Xji",
      "include_colab_link": true
    },
    "kernelspec": {
      "name": "python3",
      "display_name": "Python 3"
    },
    "language_info": {
      "name": "python"
    }
  },
  "cells": [
    {
      "cell_type": "markdown",
      "metadata": {
        "id": "view-in-github",
        "colab_type": "text"
      },
      "source": [
        "<a href=\"https://colab.research.google.com/github/Elnn05/Prog_Civil_2025_2/blob/main/Semana_4_y_5_Civil.ipynb\" target=\"_parent\"><img src=\"https://colab.research.google.com/assets/colab-badge.svg\" alt=\"Open In Colab\"/></a>"
      ]
    },
    {
      "cell_type": "markdown",
      "source": [
        "# Casos de Ingeniería Civil:\n",
        "\n"
      ],
      "metadata": {
        "id": "_sJyaADlfhT7"
      }
    },
    {
      "cell_type": "markdown",
      "source": [
        "## Situación 1: Calculadora de Peso Estructural (Diccionarios y Funciones)\n",
        " • Paso a Paso del Código:\n",
        " 1. Crear un diccionario que funcione como una base de datos de densidades. La clave será el\n",
        " nombre del material y el valor será su densidad en kg/m³.\n",
        " 2. Crear una función calcular_peso que reciba el diccionario de densidades, el nombre del material\n",
        " y su volumen.\n",
        " 3. Dentro de la función, buscar la densidad del material en el diccionario.\n",
        " 4. Si el material existe, calcular y devolver el peso (densidad * volumen). Si no, devolver un mensaje\n",
        " de error o None.\n",
        " 5. En el programa principal, pedir al usuario el tipo de material y las dimensiones del elemento para\n",
        " calcular su volumen.\n",
        " 6. Llamar a la función calcular_peso y mostrar el resultado."
      ],
      "metadata": {
        "id": "4gAuAXxtgRE3"
      }
    },
    {
      "cell_type": "code",
      "metadata": {
        "colab": {
          "base_uri": "https://localhost:8080/"
        },
        "id": "be7b7c8d",
        "outputId": "8f2a344c-ded9-4e56-e977-fee68c8f53c2"
      },
      "source": [
        "# 1. Crear un diccionario de densidades\n",
        "densidades = {\n",
        "    \"acero\": 7850,\n",
        "    \"hormigon\": 2400,\n",
        "    \"madera (pino)\": 500,\n",
        "    \"aluminio\": 2700,\n",
        "    \"ladrillo\": 1800\n",
        "}\n",
        "\n",
        "# 2. Crear una función calcular_peso\n",
        "def calcular_peso(diccionario_densidades, nombre_material, volumen):\n",
        "    \"\"\"\n",
        "    Calcula el peso de un material dado su volumen y densidad.\n",
        "\n",
        "    Args:\n",
        "        diccionario_densidades (dict): Diccionario con nombres de materiales y sus densidades.\n",
        "        nombre_material (str): Nombre del material.\n",
        "        volumen (float): Volumen del material en m³.\n",
        "\n",
        "    Returns:\n",
        "        float or None: El peso del material en kg si el material existe, de lo contrario None.\n",
        "    \"\"\"\n",
        "    # 3. Buscar la densidad del material en el diccionario\n",
        "    if nombre_material.lower() in diccionario_densidades:\n",
        "        densidad = diccionario_densidades[nombre_material.lower()]\n",
        "        # 4. Calcular y devolver el peso\n",
        "        peso = densidad * volumen\n",
        "        return peso\n",
        "    else:\n",
        "        # Si no, devolver un mensaje de error o None\n",
        "        return None\n",
        "\n",
        "# 5. En el programa principal, pedir al usuario el tipo de material y las dimensiones\n",
        "print(\"Materiales disponibles:\", list(densidades.keys()))\n",
        "tipo_material = input(\"Introduce el tipo de material: \")\n",
        "\n",
        "try:\n",
        "    largo = float(input(\"Introduce el largo del elemento (en metros): \"))\n",
        "    ancho = float(input(\"Introduce el ancho del elemento (en metros): \"))\n",
        "    alto = float(input(\"Introduce el alto del elemento (en metros): \"))\n",
        "\n",
        "    # Calcular el volumen\n",
        "    volumen_elemento = largo * ancho * alto\n",
        "\n",
        "    # 6. Llamar a la función calcular_peso\n",
        "    peso_calculado = calcular_peso(densidades, tipo_material, volumen_elemento)\n",
        "\n",
        "    # Mostrar el resultado\n",
        "    if peso_calculado is not None:\n",
        "        print(f\"El peso del elemento de {tipo_material} con un volumen de {volumen_elemento:.2f} m³ es: {peso_calculado:.2f} kg\")\n",
        "    else:\n",
        "        print(f\"Error: El material '{tipo_material}' no se encuentra en la base de datos de densidades.\")\n",
        "\n",
        "except ValueError:\n",
        "    print(\"Error: Por favor, introduce dimensiones numéricas válidas.\")"
      ],
      "execution_count": 1,
      "outputs": [
        {
          "output_type": "stream",
          "name": "stdout",
          "text": [
            "Materiales disponibles: ['acero', 'hormigon', 'madera (pino)', 'aluminio', 'ladrillo']\n",
            "Introduce el tipo de material: hormigon\n",
            "Introduce el largo del elemento (en metros): 5\n",
            "Introduce el ancho del elemento (en metros): 2\n",
            "Introduce el alto del elemento (en metros): 7\n",
            "El peso del elemento de hormigon con un volumen de 70.00 m³ es: 168000.00 kg\n"
          ]
        }
      ]
    },
    {
      "cell_type": "markdown",
      "source": [
        "## Situación 2: Almacenamiento de Cargas Puntuales en una Viga.\n",
        "\n",
        "Un ingeniero necesita registrar las diferentes cargas puntuales (en Kilonewtons) que actúan sobre una viga. El programa debe permitir registrar varias cargas, almacenarlas y luego mostrarlas junto con la carga máxima aplicada.\n",
        "\n",
        " • Paso a Paso del Código (Guía para el Notebook)\n",
        " 1. # Crear una lista vacía llamada 'cargas_viga'.\n",
        " 2. # Preguntar al usuario cuántas cargas puntuales desea ingresar.\n",
        " 3. # Usar un bucle 'for' que se repita ese número de veces.\n",
        " 4. # En cada iteración, pedir el valor de la carga en kN y añadirlo a la lista 'cargas_viga'.\n",
        " 5. # Una vez que el bucle termina, mostrar todas las cargas registradas.\n",
        " 6. # Utilizar la función max() para encontrar la carga más alta en la lista.\n",
        " 7. # Imprimir la carga máxima encontrada, indicando sus unidades (kN)."
      ],
      "metadata": {
        "id": "m-HxKkslgZn_"
      }
    },
    {
      "cell_type": "code",
      "metadata": {
        "colab": {
          "base_uri": "https://localhost:8080/"
        },
        "id": "ba5d3b14",
        "outputId": "7b926606-eaca-4396-ef76-c4f4089fd4af"
      },
      "source": [
        "# 1. Crear una lista vacía llamada 'cargas_viga'.\n",
        "cargas_viga = []\n",
        "\n",
        "# 2. Preguntar al usuario cuántas cargas puntuales desea ingresar.\n",
        "try:\n",
        "    num_cargas = int(input(\"¿Cuántas cargas puntuales deseas ingresar? \"))\n",
        "\n",
        "    # 3. Usar un bucle 'for' que se repita ese número de veces.\n",
        "    for i in range(num_cargas):\n",
        "        # 4. En cada iteración, pedir el valor de la carga en kN y añadirlo a la lista 'cargas_viga'.\n",
        "        try:\n",
        "            carga = float(input(f\"Introduce el valor de la carga {i+1} (en kN): \"))\n",
        "            cargas_viga.append(carga)\n",
        "        except ValueError:\n",
        "            print(\"Entrada inválida. Por favor, introduce un número para la carga.\")\n",
        "\n",
        "    # 5. Una vez que el bucle termina, mostrar todas las cargas registradas.\n",
        "    print(\"\\nCargas registradas en la viga:\", cargas_viga)\n",
        "\n",
        "    # 6. Utilizar la función max() para encontrar la carga más alta en la lista.\n",
        "    if cargas_viga: # Verificar si la lista no está vacía\n",
        "        carga_maxima = max(cargas_viga)\n",
        "\n",
        "        # 7. Imprimir la carga máxima encontrada, indicando sus unidades (kN).\n",
        "        print(f\"La carga máxima aplicada en la viga es: {carga_maxima:.2f} kN\")\n",
        "    else:\n",
        "        print(\"No se ingresaron cargas para la viga.\")\n",
        "\n",
        "except ValueError:\n",
        "    print(\"Entrada inválida. Por favor, introduce un número entero para la cantidad de cargas.\")"
      ],
      "execution_count": 2,
      "outputs": [
        {
          "output_type": "stream",
          "name": "stdout",
          "text": [
            "¿Cuántas cargas puntuales deseas ingresar? 3\n",
            "Introduce el valor de la carga 1 (en kN): 18\n",
            "Introduce el valor de la carga 2 (en kN): 12\n",
            "Introduce el valor de la carga 3 (en kN): 20\n",
            "\n",
            "Cargas registradas en la viga: [18.0, 12.0, 20.0]\n",
            "La carga máxima aplicada en la viga es: 20.00 kN\n"
          ]
        }
      ]
    },
    {
      "cell_type": "markdown",
      "source": [
        " ## Situación 3: Función para Calcular el Área de una Sección Transversal\n",
        "\n",
        " En el diseño estructural, es común calcular el área de diferentes secciones transversales (rectangulares, circulares, etc.). Crearás una\n",
        " función específica para calcular el área de una sección rectangular, que podrá ser reutilizada fácilmente.\n",
        "\n",
        "• Paso a Paso del Código (Guía para el Notebook)\n",
        " 1. # Definir una función llamada 'area_rectangulo' que acepte dos parámetros:'base' y 'altura'.\n",
        " 2. # Dentro de la función, calcular el área multiplicando la base por la altura.\n",
        " 3. # La función debe devolver el resultado del cálculo.\n",
        " 4. # En el programa principal, simular el cálculo para dos elementos estructurales diferentes (ej. una viga y una columna).\n",
        " 5. # Para la viga, pedir su base y altura, llamar a la función 'area_rectangulo' ymmostrar el resultado.\n",
        " 6. # Para la columna, pedir su base y altura, llamar a la MISMA función 'area_rectangulo'y mostrar el resultado.\n",
        " 7. # Resaltar cómo la función evitó tener que escribir la fórmula 'base * altura'dos veces.\n"
      ],
      "metadata": {
        "id": "qzwfa8KfLaIa"
      }
    },
    {
      "cell_type": "code",
      "metadata": {
        "colab": {
          "base_uri": "https://localhost:8080/"
        },
        "id": "fde7d26e",
        "outputId": "764f9c76-fa75-43ea-e7e2-aeebd64089a0"
      },
      "source": [
        "# 1. Definir una función llamada 'area_rectangulo' que acepte dos parámetros: 'base' y 'altura'.\n",
        "def area_rectangulo(base, altura):\n",
        "    \"\"\"\n",
        "    Calcula el área de una sección rectangular.\n",
        "\n",
        "    Args:\n",
        "        base (float): La longitud de la base del rectángulo.\n",
        "        altura (float): La longitud de la altura del rectángulo.\n",
        "\n",
        "    Returns:\n",
        "        float: El área del rectángulo.\n",
        "    \"\"\"\n",
        "    # 2. Dentro de la función, calcular el área multiplicando la base por la altura.\n",
        "    area = base * altura\n",
        "    # 3. La función debe devolver el resultado del cálculo.\n",
        "    return area\n",
        "\n",
        "# 4. En el programa principal, simular el cálculo para dos elementos estructurales diferentes.\n",
        "\n",
        "# 5. Para la viga, pedir su base y altura, llamar a la función 'area_rectangulo' y mostrar el resultado.\n",
        "print(\"--- Cálculo para una Viga ---\")\n",
        "try:\n",
        "    base_viga = float(input(\"Introduce la base de la viga (en metros): \"))\n",
        "    altura_viga = float(input(\"Introduce la altura de la viga (en metros): \"))\n",
        "\n",
        "    area_viga = area_rectangulo(base_viga, altura_viga)\n",
        "    print(f\"El área de la sección transversal de la viga es: {area_viga:.2f} m²\")\n",
        "except ValueError:\n",
        "    print(\"Entrada inválida. Por favor, introduce números para la base y la altura de la viga.\")\n",
        "\n",
        "print(\"\\n--- Cálculo para una Columna ---\")\n",
        "# 6. Para la columna, pedir su base y altura, llamar a la MISMA función 'area_rectangulo' y mostrar el resultado.\n",
        "try:\n",
        "    base_columna = float(input(\"Introduce la base de la columna (en metros): \"))\n",
        "    altura_columna = float(input(\"Introduce la altura de la columna (en metros): \"))\n",
        "\n",
        "    area_columna = area_rectangulo(base_columna, altura_columna)\n",
        "    print(f\"El área de la sección transversal de la columna es: {area_columna:.2f} m²\")\n",
        "except ValueError:\n",
        "    print(\"Entrada inválida. Por favor, introduce números para la base y la altura de la columna.\")\n",
        "\n",
        "# 7. Resaltar cómo la función evitó tener que escribir la fórmula 'base * altura' dos veces.\n",
        "print(\"\\nAl usar la función 'area_rectangulo', evitamos repetir la fórmula 'base * altura' para cada cálculo, haciendo el código más limpio y fácil de mantener.\")"
      ],
      "execution_count": 1,
      "outputs": [
        {
          "output_type": "stream",
          "name": "stdout",
          "text": [
            "--- Cálculo para una Viga ---\n",
            "Introduce la base de la viga (en metros): 0.25\n",
            "Introduce la altura de la viga (en metros): 0.50\n",
            "El área de la sección transversal de la viga es: 0.12 m²\n",
            "\n",
            "--- Cálculo para una Columna ---\n",
            "Introduce la base de la columna (en metros): 0.30\n",
            "Introduce la altura de la columna (en metros): 0.64\n",
            "El área de la sección transversal de la columna es: 0.19 m²\n",
            "\n",
            "Al usar la función 'area_rectangulo', evitamos repetir la fórmula 'base * altura' para cada cálculo, haciendo el código más limpio y fácil de mantener.\n"
          ]
        }
      ]
    }
  ]
}