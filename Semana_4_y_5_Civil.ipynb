{
  "nbformat": 4,
  "nbformat_minor": 0,
  "metadata": {
    "colab": {
      "provenance": [],
      "authorship_tag": "ABX9TyO4utenxv9BO/oWaxAtT0rP",
      "include_colab_link": true
    },
    "kernelspec": {
      "name": "python3",
      "display_name": "Python 3"
    },
    "language_info": {
      "name": "python"
    }
  },
  "cells": [
    {
      "cell_type": "markdown",
      "metadata": {
        "id": "view-in-github",
        "colab_type": "text"
      },
      "source": [
        "<a href=\"https://colab.research.google.com/github/Elnn05/Prog_Civil_2025_2/blob/main/Semana_4_y_5_Civil.ipynb\" target=\"_parent\"><img src=\"https://colab.research.google.com/assets/colab-badge.svg\" alt=\"Open In Colab\"/></a>"
      ]
    },
    {
      "cell_type": "markdown",
      "source": [
        "#Situación de Interés en Ingeniería Civil:\n",
        "Un ingeniero estructural necesita calcular el peso de diferentes elementos de una construcción (vigas, columnas). El programa debe tener una base de datos con las densidades de materiales comunes (acero, concreto, madera) y, a partir del tipo de material y el volumen del elemento, debe calcular su peso total.\n",
        "\n",
        "Caso de Ingeniería Civil: Calculadora de Peso Estructural (Diccionarios y Funciones)\n",
        "\n",
        " • Paso a Paso del Código:\n",
        " 1. Crear un diccionario que funcione como una base de datos de densidades. La clave será el\n",
        " nombre del material y el valor será su densidad en kg/m³.\n",
        " 2. Crear una función calcular_peso que reciba el diccionario de densidades, el nombre del material\n",
        " y su volumen.\n",
        " 3. Dentro de la función, buscar la densidad del material en el diccionario.\n",
        " 4. Si el material existe, calcular y devolver el peso (densidad * volumen). Si no, devolver un mensaje\n",
        " de error o None.\n",
        " 5. En el programa principal, pedir al usuario el tipo de material y las dimensiones del elemento para\n",
        " calcular su volumen.\n",
        " 6. Llamar a la función calcular_peso y mostrar el resultado"
      ],
      "metadata": {
        "id": "bVxGusibRs4E"
      }
    },
    {
      "cell_type": "code",
      "metadata": {
        "colab": {
          "base_uri": "https://localhost:8080/"
        },
        "id": "e38f56c3",
        "outputId": "b748f290-c8df-497a-a615-e03012228d7e"
      },
      "source": [
        "# 1. Crear un diccionario que funcione como una base de datos de densidades.\n",
        "densidades = {\n",
        "    \"acero\": 7850,  # kg/m³\n",
        "    \"concreto\": 2400, # kg/m³\n",
        "    \"madera\": 700    # kg/m³ (valor promedio, puede variar)\n",
        "}\n",
        "\n",
        "# 2. Crear una función calcular_peso que reciba el diccionario de densidades, el nombre del material y su volumen.\n",
        "def calcular_peso(diccionario_densidades, material, volumen):\n",
        "  \"\"\"\n",
        "  Calcula el peso de un elemento estructural.\n",
        "\n",
        "  Args:\n",
        "    diccionario_densidades: Diccionario con las densidades de los materiales.\n",
        "    material: Nombre del material (string).\n",
        "    volumen: Volumen del elemento en m³ (float).\n",
        "\n",
        "  Returns:\n",
        "    El peso del elemento en kg (float) si el material existe, de lo contrario, un mensaje de error (string).\n",
        "  \"\"\"\n",
        "  # 3. Dentro de la función, buscar la densidad del material en el diccionario.\n",
        "  if material.lower() in diccionario_densidades:\n",
        "    densidad = diccionario_densidades[material.lower()]\n",
        "    # 4. Si el material existe, calcular y devolver el peso (densidad * volumen).\n",
        "    peso = densidad * volumen\n",
        "    return peso\n",
        "  else:\n",
        "    # 4. Si no, devolver un mensaje de error o None.\n",
        "    return f\"Error: Material '{material}' no encontrado en la base de datos de densidades.\"\n",
        "\n",
        "# 5. En el programa principal, pedir al usuario el tipo de material y las dimensiones del elemento para calcular su volumen.\n",
        "print(\"Calculadora de Peso Estructural\")\n",
        "\n",
        "material_input = input(\"Ingrese el tipo de material (acero, concreto, madera): \")\n",
        "\n",
        "try:\n",
        "  largo = float(input(\"Ingrese el largo del elemento en metros: \"))\n",
        "  ancho = float(input(\"Ingrese el ancho del elemento en metros: \"))\n",
        "  alto = float(input(\"Ingrese el alto del elemento en metros: \"))\n",
        "\n",
        "  volumen_calculado = largo * ancho * alto\n",
        "\n",
        "  # 6. Llamar a la función calcular_peso y mostrar el resultado\n",
        "  resultado_peso = calcular_peso(densidades, material_input, volumen_calculado)\n",
        "\n",
        "  if isinstance(resultado_peso, float):\n",
        "    print(f\"\\nEl peso del elemento de {material_input} con un volumen de {volumen_calculado:.2f} m³ es: {resultado_peso:.2f} kg\")\n",
        "  else:\n",
        "    print(f\"\\n{resultado_peso}\")\n",
        "\n",
        "except ValueError:\n",
        "  print(\"Error: Por favor, ingrese valores numéricos válidos para las dimensiones.\")"
      ],
      "execution_count": 7,
      "outputs": [
        {
          "output_type": "stream",
          "name": "stdout",
          "text": [
            "Calculadora de Peso Estructural\n",
            "Ingrese el tipo de material (acero, concreto, madera): madera\n",
            "Ingrese el largo del elemento en metros: 4\n",
            "Ingrese el ancho del elemento en metros: 3\n",
            "Ingrese el alto del elemento en metros: 6\n",
            "\n",
            "El peso del elemento de madera con un volumen de 72.00 m³ es: 50400.00 kg\n"
          ]
        }
      ]
    }
  ]
}