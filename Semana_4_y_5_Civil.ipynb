{
  "nbformat": 4,
  "nbformat_minor": 0,
  "metadata": {
    "colab": {
      "provenance": [],
      "authorship_tag": "ABX9TyOnR2ffhM1paQmd4OMlCSE6",
      "include_colab_link": true
    },
    "kernelspec": {
      "name": "python3",
      "display_name": "Python 3"
    },
    "language_info": {
      "name": "python"
    }
  },
  "cells": [
    {
      "cell_type": "markdown",
      "metadata": {
        "id": "view-in-github",
        "colab_type": "text"
      },
      "source": [
        "<a href=\"https://colab.research.google.com/github/Elnn05/Prog_Civil_2025_2/blob/main/Semana_4_y_5_Civil.ipynb\" target=\"_parent\"><img src=\"https://colab.research.google.com/assets/colab-badge.svg\" alt=\"Open In Colab\"/></a>"
      ]
    },
    {
      "cell_type": "markdown",
      "source": [
        "# Situación 1: Almacenamiento de Cargas Puntuales en una Viga\n",
        "\n",
        "Un ingeniero necesita registrar las diferentes cargas puntuales (en Kilonewtons) que actúan sobre una viga. El programa debe permitir registrar varias cargas, almacenarlas y luego mostrarlas junto con la carga máxima aplicada.\n",
        "\n",
        "Paso a Paso del Código (Guía para el Notebook)\n",
        " 1. # Crear una lista vacía llamada 'cargas_viga'.\n",
        " 2. # Preguntar al usuario cuántas cargas puntuales desea ingresar.\n",
        " 3. # Usar un bucle 'for' que se repita ese número de veces.\n",
        " 4. # En cada iteración, pedir el valor de la carga en kN y añadirlo a la lista\n",
        " 'cargas_viga'.\n",
        " 5. # Una vez que el bucle termina, mostrar todas las cargas registradas.\n",
        " 6. # Utilizar la función max() para encontrar la carga más alta en la lista.\n",
        " 7. # Imprimir la carga máxima encontrada, indicando sus unidades (kN)"
      ],
      "metadata": {
        "id": "P2s-J5hBbTCT"
      }
    },
    {
      "cell_type": "code",
      "source": [],
      "metadata": {
        "id": "gOPGON1hbSgN"
      },
      "execution_count": null,
      "outputs": []
    },
    {
      "cell_type": "code",
      "metadata": {
        "colab": {
          "base_uri": "https://localhost:8080/"
        },
        "id": "3e589a45",
        "outputId": "92ab5dd2-2f65-4f10-cdd9-d914d8351381"
      },
      "source": [
        "# 1. Crear una lista vacía llamada 'cargas_viga'.\n",
        "cargas_viga = []\n",
        "\n",
        "# 2. Preguntar al usuario cuántas cargas puntuales desea ingresar.\n",
        "while True:\n",
        "  try:\n",
        "    num_cargas = int(input(\"¿Cuántas cargas puntuales desea ingresar?: \"))\n",
        "    break\n",
        "  except ValueError:\n",
        "    print(\"Por favor, ingrese un número entero válido.\")\n",
        "\n",
        "# 3. Usar un bucle 'for' que se repita ese número de veces.\n",
        "for i in range(num_cargas):\n",
        "  # 4. En cada iteración, pedir el valor de la carga en kN y añadirlo a la lista 'cargas_viga'.\n",
        "  while True:\n",
        "    try:\n",
        "      carga = float(input(f\"Ingrese el valor de la carga {i+1} en kN: \"))\n",
        "      cargas_viga.append(carga)\n",
        "      break\n",
        "    except ValueError:\n",
        "      print(\"Por favor, ingrese un valor numérico válido para la carga.\")\n",
        "\n",
        "\n",
        "# 5. Una vez que el bucle termina, mostrar todas las cargas registradas.\n",
        "print(\"\\nCargas registradas en la viga:\")\n",
        "for carga in cargas_viga:\n",
        "  print(f\"- {carga} kN\")\n",
        "\n",
        "# 6. Utilizar la función max() para encontrar la carga más alta en la lista.\n",
        "if cargas_viga: # Verificar si la lista no está vacía\n",
        "  carga_maxima = max(cargas_viga)\n",
        "  # 7. Imprimir la carga máxima encontrada, indicando sus unidades (kN)\n",
        "  print(f\"\\nLa carga máxima aplicada es: {carga_maxima} kN\")\n",
        "else:\n",
        "  print(\"\\nNo se ingresaron cargas para la viga.\")"
      ],
      "execution_count": 8,
      "outputs": [
        {
          "output_type": "stream",
          "name": "stdout",
          "text": [
            "¿Cuántas cargas puntuales desea ingresar?: 5\n",
            "Ingrese el valor de la carga 1 en kN: 10\n",
            "Ingrese el valor de la carga 2 en kN: 14\n",
            "Ingrese el valor de la carga 3 en kN: 20\n",
            "Ingrese el valor de la carga 4 en kN: 24\n",
            "Ingrese el valor de la carga 5 en kN: 56\n",
            "\n",
            "Cargas registradas en la viga:\n",
            "- 10.0 kN\n",
            "- 14.0 kN\n",
            "- 20.0 kN\n",
            "- 24.0 kN\n",
            "- 56.0 kN\n",
            "\n",
            "La carga máxima aplicada es: 56.0 kN\n"
          ]
        }
      ]
    }
  ]
}