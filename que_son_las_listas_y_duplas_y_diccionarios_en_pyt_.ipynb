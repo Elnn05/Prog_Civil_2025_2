{
  "cells": [
    {
      "cell_type": "markdown",
      "metadata": {
        "id": "view-in-github",
        "colab_type": "text"
      },
      "source": [
        "<a href=\"https://colab.research.google.com/github/Elnn05/Prog_Civil_2025_2/blob/main/que_son_las_listas_y_duplas_y_diccionarios_en_pyt_.ipynb\" target=\"_parent\"><img src=\"https://colab.research.google.com/assets/colab-badge.svg\" alt=\"Open In Colab\"/></a>"
      ]
    },
    {
      "cell_type": "markdown",
      "source": [
        "Las listas, duplas y diccionarios son tipos de datos fundamentales en Python para almacenar colecciones de elementos. A continuación, te explico cada uno:\n",
        "\n",
        "### Listas\n",
        "\n",
        "Las **listas** son colecciones de elementos **ordenadas** y **mutables**. Esto significa que puedes cambiar, añadir o eliminar elementos después de que la lista haya sido creada. Se definen con corchetes `[]` y los elementos se separan por comas.\n",
        "\n",
        "**Ejemplo:**"
      ],
      "metadata": {
        "id": "tCgDgb_MMXNL"
      }
    },
    {
      "cell_type": "code",
      "source": [
        "mi_lista = ['manzana', 'banana', 'cereza']\n",
        "mi_lista.append('naranja')  # Añade un elemento\n",
        "mi_lista[0] = 'mango'      # Modifica un elemento\n",
        "print(mi_lista)            # Output: ['mango', 'banana', 'cereza', 'naranja']"
      ],
      "outputs": [],
      "execution_count": null,
      "metadata": {
        "id": "C1-ajBJXMXNQ"
      }
    },
    {
      "cell_type": "markdown",
      "source": [
        "-----\n",
        "\n",
        "### Duplas (Tuplas)\n",
        "\n",
        "Las **duplas** (o tuplas) son colecciones de elementos **ordenadas** e **inmutables**. Una vez que se crea una dupla, no se pueden modificar sus elementos, ni añadir nuevos, ni eliminarlos. Se definen con paréntesis `()` o simplemente separando los elementos por comas.\n",
        "\n",
        "**Ejemplo:**"
      ],
      "metadata": {
        "id": "pTlG5PgyMXNS"
      }
    },
    {
      "cell_type": "code",
      "source": [
        "mi_dupla = ('manzana', 'banana', 'cereza')\n",
        "# mi_dupla[0] = 'mango'  # Esto daría un error\n",
        "print(mi_dupla[1])       # Output: banana"
      ],
      "outputs": [],
      "execution_count": null,
      "metadata": {
        "id": "UjtC7xv1MXNU"
      }
    },
    {
      "cell_type": "markdown",
      "source": [
        "-----\n",
        "\n",
        "### Diccionarios\n",
        "\n",
        "Los **diccionarios** son colecciones de elementos **desordenadas** (en versiones antiguas de Python), **mutables** y se almacenan como pares de **clave-valor**. Cada elemento consta de una **clave** única que sirve como identificador y un **valor** asociado. Se definen con llaves `{}`.\n",
        "\n",
        "**Ejemplo:**"
      ],
      "metadata": {
        "id": "IAwC_2s-MXNV"
      }
    },
    {
      "cell_type": "code",
      "source": [
        "mi_diccionario = {\n",
        "    'nombre': 'Juan',\n",
        "    'edad': 30,\n",
        "    'ciudad': 'Madrid'\n",
        "}\n",
        "mi_diccionario['edad'] = 31      # Modifica el valor de una clave\n",
        "mi_diccionario['pais'] = 'España' # Añade un nuevo par clave-valor\n",
        "print(mi_diccionario['nombre'])  # Output: Juan"
      ],
      "outputs": [],
      "execution_count": null,
      "metadata": {
        "id": "WuODBJz6MXNV"
      }
    }
  ],
  "metadata": {
    "colab": {
      "provenance": [],
      "include_colab_link": true
    },
    "kernelspec": {
      "display_name": "Python 3",
      "name": "python3"
    }
  },
  "nbformat": 4,
  "nbformat_minor": 0
}