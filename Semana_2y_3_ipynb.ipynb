{
  "nbformat": 4,
  "nbformat_minor": 0,
  "metadata": {
    "colab": {
      "provenance": [],
      "authorship_tag": "ABX9TyMoYiSHg7i/qUIvKYAS9osM",
      "include_colab_link": true
    },
    "kernelspec": {
      "name": "python3",
      "display_name": "Python 3"
    },
    "language_info": {
      "name": "python"
    }
  },
  "cells": [
    {
      "cell_type": "markdown",
      "metadata": {
        "id": "view-in-github",
        "colab_type": "text"
      },
      "source": [
        "<a href=\"https://colab.research.google.com/github/Elnn05/Prog_Civil_2025_2/blob/main/Semana_2y_3_ipynb.ipynb\" target=\"_parent\"><img src=\"https://colab.research.google.com/assets/colab-badge.svg\" alt=\"Open In Colab\"/></a>"
      ]
    },
    {
      "cell_type": "markdown",
      "source": [
        "#Situación 1: Clasificador de pH del Suelo\n",
        "El pH del suelo es un factor crítico para la absorción de\n",
        "nutrientes por parte de las plantas. Desarrollarás un programa que recibe un valor de pH e informa al\n",
        "agricultor si el suelo es ácido, neutro o alcalino, ofreciendo una recomendación general"
      ],
      "metadata": {
        "id": "fmLDOZsFBuSg"
      }
    },
    {
      "cell_type": "code",
      "execution_count": null,
      "metadata": {
        "colab": {
          "base_uri": "https://localhost:8080/"
        },
        "id": "4nhji5_QBrhZ",
        "outputId": "3273e145-1dd3-444f-b539-d3bf8f06e83c"
      },
      "outputs": [
        {
          "output_type": "stream",
          "name": "stdout",
          "text": [
            "Este programa clasifica el pH del suelo.\n",
            "Ingrese el valor de pH medido: 4\n",
            "El suelo es ácido.\n",
            "Recomendamos el uso de cal agrícola.\n"
          ]
        }
      ],
      "source": [
        "# Explicar al usuario que el programa clasifica el pH del suelo.\n",
        "print(\"Este programa clasifica el pH del suelo.\")\n",
        "\n",
        "# Pedir al usuario que ingrese el valor de pH medido (puede ser decimal).\n",
        "# Guardar el valor en una variable.\n",
        "ph = float(input(\"Ingrese el valor de pH medido: \"))\n",
        "\n",
        "# Utilizar una estructura 'if' para la primera condición: si el pH es menor que 7.\n",
        "if ph < 7:\n",
        "  # dentro del 'if', mostrar un mensaje indicando que el suelo es \" Acido\" y recomendar el uso de cal agricola.\n",
        "  print(\"El suelo es ácido.\")\n",
        "  print(\"Recomendamos el uso de cal agrícola.\")\n",
        "# utilizar una estructura 'elif', mostrar un mensaje indicando que el suelo es \"alcalino\" y recomendar el uso de sulfato.\n",
        "elif ph > 7:\n",
        "  print(\"El suelo es alcalino.\")\n",
        "  print(\"Recomendamos el uso de sulfato.\")\n",
        "else:\n",
        "# Utilizar una estructura 'else' para el caso restante (entre 6.5 y 7.5).\n",
        "# Dentro del 'else', mostrar un mensaje indicando que el suelo es \"Neutro\" y que es ideal para la mayoría de los cultivos.\n",
        "  print(\"El suelo es neutro.\")\n",
        "  print(\"No se requieren correcciones de pH.\")"
      ]
    },
    {
      "cell_type": "markdown",
      "source": [
        "# Situación 2: Verificación de Resistencia de Concreto\n",
        "Un laboratorio de materiales ensaya probetas de concreto a los 28 días. El concreto es de tipo “G-25”, lo que significa que debe tener una resistencia mínima de 25 MPa.\n",
        "\n",
        "El programa debe indicar si la probeta cumple, está por debajo o supera excepcionalmente la norma (más de 30 MPa).\n",
        "\n",
        " Paso a Paso del Código (Guía para el Notebook)\n",
        " 1. # Explicar que el programa verifica la resistencia de una probeta de concreto.\n",
        " 2. # Pedir al usuario que ingrese la resistencia obtenida en el ensayo (en MPa).\n",
        " 3. # Almacenar el resultado en una variable.\n",
        " 4. # Usar una condición 'if' para ver si la resistencia es menor a 25.\n",
        " 5. # Si es así, imprimir \"NO CUMPLE con la norma G-25\".\n",
        " 6. # Usar una condición 'elif' para ver si la resistencia es mayor o igual a 25 Y a\n",
        " la vez menor o igual a 30.\n",
        " 7. # Si es así, imprimir \"CUMPLE con la norma G-25\".\n",
        " 8. # Usar 'else' para el caso restante (mayor a 30).\n",
        " 9. # En el 'else', imprimir \"CUMPLE y supera excepcionalmente la norma G-25\".\n"
      ],
      "metadata": {
        "id": "yL6DCZoFKZl2"
      }
    },
    {
      "cell_type": "code",
      "source": [],
      "metadata": {
        "id": "613-eDOcK2ll"
      },
      "execution_count": null,
      "outputs": []
    },
    {
      "cell_type": "code",
      "metadata": {
        "colab": {
          "base_uri": "https://localhost:8080/"
        },
        "id": "edcfa2de",
        "outputId": "3ff4db5e-b6e7-4f56-f2ca-4f18f7fe827c"
      },
      "source": [
        "# Explicar que el programa verifica la resistencia de una probeta de concreto.\n",
        "print(\"Este programa verifica la resistencia de una probeta de concreto.\")\n",
        "\n",
        "# Pedir al usuario que ingrese la resistencia obtenida en el ensayo (en MPa).\n",
        "# Almacenar el resultado en una variable.\n",
        "resistencia = float(input(\"Ingrese la resistencia obtenida en el ensayo (en MPa): \"))\n",
        "\n",
        "# Usar una condición 'if' para ver si la resistencia es menor a 25.\n",
        "if resistencia < 25:\n",
        "  # Si es así, imprimir \"NO CUMPLE con la norma G-25\".\n",
        "  print(\"NO CUMPLE con la norma G-25\")\n",
        "# Usar una condición 'elif' para ver si la resistencia es mayor o igual a 25 Y a\n",
        "# la vez menor o igual a 30.\n",
        "elif 25 <= resistencia <= 30:\n",
        "  # Si es así, imprimir \"CUMPLE con la norma G-25\".\n",
        "  print(\"CUMPLE con la norma G-25\")\n",
        "else:\n",
        "# Usar 'else' para el caso restante (mayor a 30).\n",
        "# En el 'else', imprimir \"CUMPLE y supera excepcionalmente la norma G-25\".\n",
        "  print(\"CUMPLE y supera excepcionalmente la norma G-25\")"
      ],
      "execution_count": 7,
      "outputs": [
        {
          "output_type": "stream",
          "name": "stdout",
          "text": [
            "Este programa verifica la resistencia de una probeta de concreto.\n",
            "Ingrese la resistencia obtenida en el ensayo (en MPa): 38\n",
            "CUMPLE y supera excepcionalmente la norma G-25\n"
          ]
        }
      ]
    },
    {
      "cell_type": "markdown",
      "source": [
        "# Situación 3: Cálculo de Carga Acumulada en una Columna\n",
        "\n",
        "Una columna soporta las cargas de varios pisos de un edificio. Debes crear un programa que pregunte cuántos pisos hay y luego pida la carga de cada piso para finalmente calcular la carga total que llega a la cimentación.\n",
        "\n",
        "Paso a Paso del Código (Guía para el Notebook)\n",
        " 1. # Inicializar una variable para la carga total en 0.\n",
        " 2. # Preguntar al usuario cuántos pisos tiene el edificio.\n",
        " 3. # Guardar el número de pisos en una variable.\n",
        " 4. # Crear un bucle 'for' que se ejecute tantas veces como el número de pisos.\n",
        " 5. # Dentro del bucle, pedir al usuario la carga del piso actual en toneladas (ej.,\n",
        " \"Ingrese la carga del piso 1:\").\n",
        " 6. # Añadir esta carga a la variable de carga total.\n",
        " 7. # Una vez finalizado el bucle, mostrar la carga total acumulada que la columna\n",
        " transmite a la cimentación."
      ],
      "metadata": {
        "id": "2novF6HSOmOH"
      }
    },
    {
      "cell_type": "code",
      "metadata": {
        "colab": {
          "base_uri": "https://localhost:8080/"
        },
        "id": "a0e57052",
        "outputId": "1f9240c8-51e0-47b1-a5d2-998d9e6782ce"
      },
      "source": [
        "# Inicializar una variable para la carga total en 0.\n",
        "carga_total = 0\n",
        "\n",
        "# Preguntar al usuario cuántos pisos tiene el edificio.\n",
        "num_pisos = int(input(\"Ingrese el número de pisos del edificio: \"))\n",
        "\n",
        "# Crear un bucle 'for' que se ejecute tantas veces como el número de pisos.\n",
        "for i in range(1, num_pisos + 1):\n",
        "  # Dentro del bucle, pedir al usuario la carga del piso actual en toneladas (ej.,\n",
        "  # \"Ingrese la carga del piso 1:\").\n",
        "  carga_piso = float(input(f\"Ingrese la carga del piso {i} en toneladas: \"))\n",
        "  # Añadir esta carga a la variable de carga total.\n",
        "  carga_total += carga_piso\n",
        "\n",
        "# Una vez finalizado el bucle, mostrar la carga total acumulada que la columna\n",
        "# transmite a la cimentación.\n",
        "print(f\"La carga total acumulada en la columna es de: {carga_total} toneladas\")"
      ],
      "execution_count": null,
      "outputs": [
        {
          "name": "stdout",
          "output_type": "stream",
          "text": [
            "Ingrese el número de pisos del edificio: 3\n"
          ]
        }
      ]
    }
  ]
}