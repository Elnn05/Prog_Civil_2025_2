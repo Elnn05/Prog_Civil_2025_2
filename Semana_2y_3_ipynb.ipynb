{
  "nbformat": 4,
  "nbformat_minor": 0,
  "metadata": {
    "colab": {
      "provenance": [],
      "authorship_tag": "ABX9TyPc9Bn9r4Anmmr7W7mnDc3i",
      "include_colab_link": true
    },
    "kernelspec": {
      "name": "python3",
      "display_name": "Python 3"
    },
    "language_info": {
      "name": "python"
    }
  },
  "cells": [
    {
      "cell_type": "markdown",
      "metadata": {
        "id": "view-in-github",
        "colab_type": "text"
      },
      "source": [
        "<a href=\"https://colab.research.google.com/github/Elnn05/Prog_Civil_2025_2/blob/main/Semana_2y_3_ipynb.ipynb\" target=\"_parent\"><img src=\"https://colab.research.google.com/assets/colab-badge.svg\" alt=\"Open In Colab\"/></a>"
      ]
    },
    {
      "cell_type": "markdown",
      "source": [
        "#Situación 1: Clasificador de pH del Suelo\n",
        "El pH del suelo es un factor crítico para la absorción de\n",
        "nutrientes por parte de las plantas. Desarrollarás un programa que recibe un valor de pH e informa al\n",
        "agricultor si el suelo es ácido, neutro o alcalino, ofreciendo una recomendación general"
      ],
      "metadata": {
        "id": "fmLDOZsFBuSg"
      }
    },
    {
      "cell_type": "code",
      "execution_count": 5,
      "metadata": {
        "colab": {
          "base_uri": "https://localhost:8080/"
        },
        "id": "4nhji5_QBrhZ",
        "outputId": "3273e145-1dd3-444f-b539-d3bf8f06e83c"
      },
      "outputs": [
        {
          "output_type": "stream",
          "name": "stdout",
          "text": [
            "Este programa clasifica el pH del suelo.\n",
            "Ingrese el valor de pH medido: 4\n",
            "El suelo es ácido.\n",
            "Recomendamos el uso de cal agrícola.\n"
          ]
        }
      ],
      "source": [
        "# Explicar al usuario que el programa clasifica el pH del suelo.\n",
        "print(\"Este programa clasifica el pH del suelo.\")\n",
        "\n",
        "# Pedir al usuario que ingrese el valor de pH medido (puede ser decimal).\n",
        "# Guardar el valor en una variable.\n",
        "ph = float(input(\"Ingrese el valor de pH medido: \"))\n",
        "\n",
        "# Utilizar una estructura 'if' para la primera condición: si el pH es menor que 7.\n",
        "if ph < 7:\n",
        "  # dentro del 'if', mostrar un mensaje indicando que el suelo es \" Acido\" y recomendar el uso de cal agricola.\n",
        "  print(\"El suelo es ácido.\")\n",
        "  print(\"Recomendamos el uso de cal agrícola.\")\n",
        "# utilizar una estructura 'elif', mostrar un mensaje indicando que el suelo es \"alcalino\" y recomendar el uso de sulfato.\n",
        "elif ph > 7:\n",
        "  print(\"El suelo es alcalino.\")\n",
        "  print(\"Recomendamos el uso de sulfato.\")\n",
        "else:\n",
        "# Utilizar una estructura 'else' para el caso restante (entre 6.5 y 7.5).\n",
        "# Dentro del 'else', mostrar un mensaje indicando que el suelo es \"Neutro\" y que es ideal para la mayoría de los cultivos.\n",
        "  print(\"El suelo es neutro.\")\n",
        "  print(\"No se requieren correcciones de pH.\")"
      ]
    }
  ]
}